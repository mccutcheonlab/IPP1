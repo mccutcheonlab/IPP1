{
 "cells": [
  {
   "cell_type": "markdown",
   "metadata": {},
   "source": [
    "# IPP Analysis\n",
    "edited from Giulia's workbook for IPP to include in EBPS talk, Sept 2019\n",
    "kept in IPP1 Github on McCutcheon Lab"
   ]
  },
  {
   "cell_type": "code",
   "execution_count": 1,
   "metadata": {},
   "outputs": [],
   "source": [
    "import matplotlib.pyplot as plt\n",
    "import matplotlib.gridspec as gridspec\n",
    "import matplotlib.lines as mlines\n",
    "import matplotlib as mpl\n",
    "\n",
    "import itertools\n",
    "from itertools import chain\n",
    "import pandas as pd\n",
    "\n",
    "import numpy as np\n",
    "#import dill\n",
    "\n",
    "import JM_general_functions as jmf\n",
    "import JM_custom_figs as jmfig"
   ]
  },
  {
   "cell_type": "code",
   "execution_count": 2,
   "metadata": {},
   "outputs": [],
   "source": [
    "green = mpl.colors.to_rgb('xkcd:kelly green')\n",
    "light_green = mpl.colors.to_rgb('xkcd:light green')\n",
    "almost_black = mpl.colors.to_rgb('#262626')\n",
    "\n",
    "col={}\n",
    "col['np_cas'] = 'xkcd:silver'\n",
    "col['np_malt'] = 'white'\n",
    "col['lp_cas'] = green\n",
    "col['lp_malt'] = light_green"
   ]
  },
  {
   "cell_type": "code",
   "execution_count": 3,
   "metadata": {},
   "outputs": [],
   "source": [
    "# licks Test 1\n",
    "\n",
    "\n",
    "medfolder='..\\\\data\\\\'\n",
    "metafile=medfolder + 'metafileIPP2_3.txt'\n",
    "\n",
    "def DataExtract (metafile):\n",
    "    f = open(metafile, 'r')\n",
    "    f.seek(0)\n",
    "    Rows = f.readlines()[1:]\n",
    "    \n",
    "    tablerows = []\n",
    "    for i in Rows:\n",
    "        tablerows.append(i.split('\\t'))\n",
    "        \n",
    "        Medfile, Rat, Session, Diet, bottleL, bottleR, licksL, licksR, \\\n",
    "        TotalLicks, IntakeL, IntakeR = [], [], [], [], [], [], [], [], [], [], []\n",
    "        \n",
    "    for i, list in enumerate(tablerows):\n",
    "        Medfile = Medfile + [list[0]]\n",
    "        Rat = Rat + [list[1]]\n",
    "        Session = Session + [list[2]]\n",
    "        Diet = Diet + [list[4]]\n",
    "        bottleL = bottleL + [list[6]]\n",
    "        bottleR = bottleR + [list[7]]\n",
    "        licksL = licksL + [list[8]]\n",
    "        licksR = licksR + [list[9]]\n",
    "        TotalLicks = TotalLicks + [list[10]]\n",
    "        IntakeL = IntakeL + [list[11]]\n",
    "        IntakeR = IntakeR + [list[12]]\n",
    "            \n",
    "    return ({'Medfile':Medfile, 'Rat':Rat, 'Session':Session, \\\n",
    "             'Diet':Diet, 'bottleL':bottleL, 'bottleR':bottleR, 'licksL':licksL, \\\n",
    "             'licksR':licksR, 'TotalLicks':TotalLicks, 'IntakeL':IntakeL, \\\n",
    "             'IntakeR':IntakeR})\n",
    "    \n",
    "Data = DataExtract(metafile)\n",
    "\n",
    "Licks = []\n",
    "for Medfile in Data['Medfile']:\n",
    "    Licks.append(jmf.medfilereader(medfolder+Medfile,varsToExtract = ['b','e'], remove_var_header = True))\n",
    "\n",
    "#when it's conditioning, you just have the list TotalLicks\n",
    "LLicks = []\n",
    "for l in Licks:\n",
    "    LLicks.append(len(l[0]))\n",
    "RLicks = []\n",
    "for l in Licks:\n",
    "    RLicks.append(len(l[1]))\n",
    "\n",
    "#lists of licks \n",
    "    \n",
    "test1_C_NR = []\n",
    "test1_M_NR = []\n",
    "test1_C_PR = []\n",
    "test1_M_PR = []\n",
    "\n",
    "\n",
    "for rat in np.unique(Data['Rat']): #create a list of the rats in numerical order\n",
    "    for index, session in enumerate(Data['Session']): #index the position in the Session list\n",
    "        if session == 's4' :\n",
    "            if Data['Rat'][index] == rat:\n",
    "                if 'NR' in Data['Diet'][index]:\n",
    "                    if 'cas' in Data ['bottleL'][index]:\n",
    "                        test1_C_NR.append(LLicks[index])\n",
    "                    if 'cas' in Data ['bottleR'][index]:\n",
    "                        test1_C_NR.append(RLicks[index])\n",
    "                    if 'malto' in Data['bottleL'][index]:\n",
    "                        test1_M_NR.append(LLicks[index])\n",
    "                    if 'malto' in Data ['bottleR'][index]:\n",
    "                        test1_M_NR.append(RLicks[index])\n",
    "                if 'PR' in Data['Diet'][index]:\n",
    "                    if 'cas' in Data['bottleL'][index]:\n",
    "                        test1_C_PR.append(LLicks[index])\n",
    "                    if 'cas' in Data['bottleR'][index]:\n",
    "                        test1_C_PR.append(RLicks[index])\n",
    "                    if 'malto' in Data['bottleL'][index]:\n",
    "                        test1_M_PR.append(LLicks[index])\n",
    "                    if 'malto' in Data ['bottleR'][index]:\n",
    "                        test1_M_PR.append(RLicks[index])\n",
    "                        \n",
    "\n",
    "av_test1_C_NR = np.mean(test1_C_NR)\n",
    "av_test1_M_NR = np.mean(test1_M_NR)\n",
    "av_test1_C_PR = np.mean(test1_C_PR)\n",
    "av_test1_M_PR = np.mean(test1_M_PR)\n",
    "\n",
    "\n",
    "\n",
    "sc0 = (0, 0, 0, 0)\n",
    "sc36 = (0.36, 0.36, 0.36, 0.36)\n",
    "sc1 = (0.78, 0.78, 0.78, 0.78)\n",
    "sc136 = (1.13, 1.13, 1.13, 1.13)\n",
    "\n",
    "\n",
    "\n",
    "width = 0.5    \n",
    "xvals = [0.5, 1.05, 1.70, 2.25]"
   ]
  },
  {
   "cell_type": "code",
   "execution_count": 21,
   "metadata": {},
   "outputs": [
    {
     "data": {
      "text/plain": [
       "''"
      ]
     },
     "execution_count": 21,
     "metadata": {},
     "output_type": "execute_result"
    },
    {
     "data": {
      "image/png": "[encoded data removed]",
      "text/plain": [
       "<Figure size 216x288 with 1 Axes>"
      ]
     },
     "metadata": {
      "needs_background": "light"
     },
     "output_type": "display_data"
    }
   ],
   "source": [
    "f, ax = plt.subplots(figsize=(3,4))\n",
    "f.subplots_adjust(left=0.25)\n",
    "\n",
    "\n",
    "jmfig.barscatter([[test1_C_NR, test1_M_NR], [test1_C_PR, test1_M_PR]],\n",
    "                 paired=True, ax=ax,\n",
    "                 barfacecoloroption='individual',\n",
    "                 barfacecolor=['white', 'xkcd:silver', 'xkcd:kelly green', 'xkcd:light green'])\n",
    "\n",
    "ax.set_ylim([-200, 5900])\n",
    "ax.set_ylabel('Licks')\n",
    "ax.set_xticks([])\n",
    "\n",
    "plt.tick_params(\n",
    "    axis='x',          # changes apply to the x-axis\n",
    "    which='both',      # both major and minor ticks are affected\n",
    "    bottom=False,      # ticks along the bottom edge are off\n",
    "    top=False)\n",
    "\n",
    "f.savefig('..\\\\figs\\\\IPP_bar.pdf', dpi=600)\n",
    ";"
   ]
  },
  {
   "cell_type": "code",
   "execution_count": 13,
   "metadata": {},
   "outputs": [
    {
     "name": "stderr",
     "output_type": "stream",
     "text": [
      "C:\\ProgramData\\Anaconda3\\lib\\site-packages\\ipykernel_launcher.py:134: MatplotlibDeprecationWarning: Saw kwargs ['c', 'color'] which are all aliases for 'color'.  Kept value from 'color'.  Passing multiple aliases for the same property will raise a TypeError in 3.3.\n",
      "C:\\ProgramData\\Anaconda3\\lib\\site-packages\\ipykernel_launcher.py:137: MatplotlibDeprecationWarning: Saw kwargs ['c', 'color'] which are all aliases for 'color'.  Kept value from 'color'.  Passing multiple aliases for the same property will raise a TypeError in 3.3.\n"
     ]
    },
    {
     "data": {
      "image/png": "[encoded data removed]",
      "text/plain": [
       "<Figure size 252x360 with 1 Axes>"
      ]
     },
     "metadata": {
      "needs_background": "light"
     },
     "output_type": "display_data"
    }
   ],
   "source": [
    "fig, ax = plt.subplots(figsize=(3, 4))\n",
    "\n",
    "fig.set_size_inches((3.5, 5))\n",
    "ax.spines['top'].set_visible(False)\n",
    "ax.spines['right'].set_visible(False)\n",
    "ax.spines['left'].set_visible(True)\n",
    "ax.spines['bottom'].set_visible(True)\n",
    "\n",
    "ax.set_ylabel('Licks', fontsize=15)\n",
    "ax.set_xticks([0.7, 1.8])\n",
    "ax.set_xticklabels(('  Cas. Malt.', '   Cas. Malt.'), fontsize=10)\n",
    "\n",
    "\n",
    "bar1 = ax.bar(xvals[0], av_test1_C_NR, width, color='xkcd:silver',  \n",
    "            align='center', label='casein', edgecolor='black', alpha=1, zorder=-1)\n",
    "bar2 = ax.bar(xvals[1], av_test1_M_NR, width, color='white',\n",
    "           align='center', label='malto', edgecolor='black', alpha=1, zorder=-1)\n",
    "bar3 = ax.bar(xvals[2], av_test1_C_PR, width, color='xkcd:kelly green',\n",
    "           align='center', label='casein', edgecolor='black', alpha=1, zorder=-1)\n",
    "bar4 = ax.bar(xvals[3], av_test1_M_PR, width, color='xkcd:light green',\n",
    "           align='center', label='malto', edgecolor='black', alpha=1, zorder=-1)\n",
    "\n",
    "ax.set_ylim([0, 6500])\n",
    "ax.set_yticks([0, 2000, 4000, 6000])\n",
    "\n",
    "plt.tick_params(labelsize=15)\n",
    "plt.tick_params(\n",
    "    axis='x',          # changes apply to the x-axis\n",
    "    which='both',      # both major and minor ticks are affected\n",
    "    bottom=False,      # ticks along the bottom edge are off\n",
    "    top=False) \n",
    "       \n",
    "\n",
    "for y1,y2 in zip(test1_C_NR, test1_M_NR):\n",
    "    ax.plot([xvals[0], xvals[1]],[y1,y2], c='xkcd:charcoal', marker='o',markerfacecolor='w', color= 'lightgrey', markeredgecolor='xkcd:charcoal', markersize=6, zorder=20, alpha=1, clip_on=False)\n",
    "    \n",
    "for y1,y2 in zip(test1_C_PR, test1_M_PR):\n",
    "    ax.plot([xvals[2], xvals[3]],[y1,y2],c='xkcd:charcoal', marker='o',markerfacecolor='w', color= 'lightgrey', markeredgecolor='xkcd:charcoal', markersize=6, zorder=20, alpha=1, clip_on=False)\n",
    "\n",
    "#leg1 = ax.legend([bar1,bar2, bar3, bar4],['Cas.','Malto.', 'Cas.','Malto.'], loc=(0.02, 0.55),  fontsize=9)\n",
    "#   leg1 = ax.legend([bar1,bar2],['Casein','Maltodextrin'], loc='upper left', fontsize=6)\n",
    "  #leg2 = ax.legend([bar3,bar4],['Casein','Maltodextrin'], loc='upper right', fontsize=6)\n",
    "  #ax.add_artist(leg1)\n",
    "\n",
    "#plt.title('Preference Test', fontsize=15)\n",
    "plt.tight_layout()\n",
    "#plt.savefig('IPP2-3 test1_licks.pdf', dpi=800)\n",
    "plt.show()"
   ]
  },
  {
   "cell_type": "code",
   "execution_count": 60,
   "metadata": {},
   "outputs": [
    {
     "data": {
      "image/png": "[encoded data removed]",
      "text/plain": [
       "<Figure size 201.6x360 with 1 Axes>"
      ]
     },
     "metadata": {
      "needs_background": "light"
     },
     "output_type": "display_data"
    }
   ],
   "source": [
    "# Casein Preference Test 1\n",
    "\n",
    "N=1\n",
    "mNR = (0.5)\n",
    "mPR = (0.7)\n",
    "sNR = (0.656092555, 0.488791793, 0.688574939, 0.148148148, 0.450381679, 0.931294118, 0.14650974, 0.106493506, 0.717976319, 0.81238504, 0.192320103, 0.603206413, 0.901275652, 0.25)\n",
    "sPR = (0.756225426, 0.77647589, 0.913664287, 0.847421422, 0.893170927, 0.775, 0.340226297, 0.269969666, 0.889364872, 0.904622586, 0.912850812, 0.426534769, 0.508424182, 0.453247144)\n",
    "\n",
    "sc0 = (0, 0, 0, 0.01, 0, 0, 0, 0, 0, 0, 0, 0, 0, 0)\n",
    "sc36 = (0.13, 0.15, 0.11, 0.13, 0.15, 0.11, 0.13, 0.13, 0.11, 0.13, 0.15, 0.13, 0.13, 0.13)\n",
    "\n",
    "ind = np.arange(N)   \n",
    "width = 0.1   \n",
    "\n",
    "fig, ax = plt.subplots(figsize=(2.8, 5))\n",
    "ax.spines['top'].set_visible(False)\n",
    "ax.spines['right'].set_visible(False)\n",
    "ax.spines['left'].set_visible(True)\n",
    "ax.spines['bottom'].set_visible(True)\n",
    "ax.set_ylabel('Casein licks / total licks', fontsize=15)\n",
    "\n",
    "ax.set_xticks([ind, ind+width+0.03])\n",
    "ax.set_xticklabels(('NR', 'PR'), fontsize=15)\n",
    "\n",
    "bar1 = ax.bar(ind, mNR,  width, color= 'xkcd:silver',\n",
    "             align='center', label='NR', edgecolor='black', alpha=1, zorder=-1)\n",
    "\n",
    "bar2 = ax.bar(ind+width+0.03, mPR, width, color='xkcd:kelly green', \n",
    "            align='center', label='PR', edgecolor='black', alpha=1, zorder=-1)\n",
    "\n",
    "plt.tick_params(\n",
    "    axis='x',          # changes apply to the x-axis\n",
    "    which='both',      # both major and minor ticks are affected\n",
    "    bottom=False,      # ticks along the bottom edge are off\n",
    "    top=False)        # ticks along the top edge are off\n",
    " \n",
    "ax.set_yticks([0, 0.5, 1])\n",
    "ax.set_yticklabels(('0', '0.5', '1'), fontsize=15)\n",
    "ax.set_ylim([0, 1.06])\n",
    "plt.tick_params(labelsize=15)\n",
    "plt.axhline(0.5, color='black', alpha=0.3)\n",
    "ax.scatter(sc0, sNR, facecolors=['white'], edgecolors='black', s=40, alpha=1, linewidth=1)\n",
    "ax.scatter(sc36, sPR, facecolors=['white'], edgecolors='black', s=40, alpha=1, linewidth=1)  \n",
    "#plt.title('Casein preference', fontsize=15)\n",
    "\n",
    "plt.tight_layout()\n",
    "plt.savefig('CasPref_IPP2-3_Test1.pdf', format='pdf', dpi=800)\n",
    "plt.show()"
   ]
  },
  {
   "cell_type": "markdown",
   "metadata": {},
   "source": [
    "# Casein preference over tests"
   ]
  },
  {
   "cell_type": "code",
   "execution_count": 27,
   "metadata": {
    "scrolled": true
   },
   "outputs": [
    {
     "data": {
      "image/png": "[encoded data removed]",
      "text/plain": [
       "<Figure size 360x360 with 1 Axes>"
      ]
     },
     "metadata": {
      "needs_background": "light"
     },
     "output_type": "display_data"
    }
   ],
   "source": [
    "\n",
    "av_NR_test1 = [0.5067]\n",
    "av_NR_test2 = [0.7349]\n",
    "av_NR_test3 = [0.5704]\n",
    "av_NR_test4 = [0.5066]\n",
    "av_NR_test5 = [0.5935]\n",
    "\n",
    "av_PR_test1 = [0.6905]\n",
    "av_PR_test2 = [0.8656]\n",
    "av_PR_test3 = [0.8563]\n",
    "av_PR_test4 = [0.7079]\n",
    "av_PR_test5 = [0.838]\n",
    "\n",
    "err_NR_test1 = [0.07864]\n",
    "err_NR_test2 = [0.06254]\n",
    "err_NR_test3 = [0.07225]\n",
    "err_NR_test4 = [0.08942]\n",
    "err_NR_test5 = [0.0586]\n",
    "\n",
    "err_PR_test1 = [0.06324]\n",
    "err_PR_test2 = [0.03912]\n",
    "err_PR_test3 = [0.0348]\n",
    "err_PR_test4 = [0.09977]\n",
    "err_PR_test5 = [0.04018]\n",
    "\n",
    "width = 0.5    \n",
    "xvals = [0.5, 1.05, 1.6, 2.15, 2.7, 3.7, 4.25, 4.8, 5.35, 5.9]\n",
    "\n",
    "fig, ax = plt.subplots()\n",
    "fig.set_size_inches((5, 5))\n",
    "\n",
    "ax.spines['top'].set_visible(False)\n",
    "ax.spines['right'].set_visible(False)\n",
    "ax.spines['left'].set_visible(True)\n",
    "ax.spines['bottom'].set_visible(True)\n",
    "\n",
    "ax.set_ylabel('Casein licks/total licks', fontsize=15)\n",
    "\n",
    "#ax.set_xticklabels(('  Cas. Malt.', '   Cas. Malt.'), fontsize=10)\n",
    "\n",
    "\n",
    "bar1 = ax.bar(xvals[0], av_NR_test1,  width, color='xkcd:silver',  \n",
    "            align='center', label='Non-restricted', edgecolor='black', alpha=1, zorder=-1, yerr=err_NR_test1)\n",
    "bar2 = ax.bar(xvals[1], av_NR_test2,  width, color='xkcd:silver',\n",
    "           align='center', label='Non-restricted', edgecolor='black', alpha=1, zorder=-1, yerr=err_NR_test2)\n",
    "bar3 = ax.bar(xvals[2], av_NR_test3,  width, color='xkcd:silver',\n",
    "           align='center', label='Non-restricted', edgecolor='black', alpha=1, zorder=-1, yerr=err_NR_test3)\n",
    "bar4 = ax.bar(xvals[3], av_NR_test4, width, color='xkcd:silver',\n",
    "           align='center', label='Non-restricted', edgecolor='black', alpha=1, zorder=-1, yerr=err_NR_test4)\n",
    "bar5 = ax.bar(xvals[4], av_NR_test5, width, color='xkcd:silver',\n",
    "           align='center', label='Non-restricted', edgecolor='black', alpha=1, zorder=-1, yerr=err_NR_test5)\n",
    "\n",
    "bar6 = ax.bar(xvals[5], av_PR_test1,  width, color='xkcd:kelly green',\n",
    "           align='center', label='Protein-restricted', edgecolor='black', alpha=1, zorder=-1, yerr=err_PR_test1)\n",
    "bar7 = ax.bar(xvals[6], av_PR_test2,  width, color='xkcd:kelly green',\n",
    "           align='center', label='Protein-restricted', edgecolor='black', alpha=1, zorder=-1, yerr=err_PR_test2)\n",
    "bar8 = ax.bar(xvals[7], av_PR_test3, width, color='xkcd:kelly green',\n",
    "           align='center', label='Protein-restricted', edgecolor='black', alpha=1, zorder=-1, yerr=err_PR_test3)\n",
    "bar9 = ax.bar(xvals[8], av_PR_test4,  width, color='xkcd:kelly green',\n",
    "           align='center', label='Protein-restricted', edgecolor='black', alpha=1, zorder=-1, yerr=err_PR_test4)\n",
    "bar10 = ax.bar(xvals[9], av_PR_test5,  width, color='xkcd:kelly green',\n",
    "           align='center', label='Protein-restricted', edgecolor='black', alpha=1, zorder=-1, yerr=err_PR_test5)\n",
    "\n",
    "ax.set_ylim([0, 1.06])\n",
    "ax.set_yticks([0, 0.5, 1])\n",
    "ax.set_yticklabels(('0', '0.5', '1'), fontsize=15)\n",
    "ax.set_xticklabels([])\n",
    "\n",
    "plt.tick_params(labelsize=15)\n",
    "plt.tick_params(\n",
    "    axis='x',          # changes apply to the x-axis\n",
    "    which='both',      # both major and minor ticks are affected\n",
    "    bottom=False,      # ticks along the bottom edge are off\n",
    "    top=False) \n",
    "ax.set_xticks([1.5, 3])\n",
    "ax.set_xticklabels(('  Non-restricted', '                                  Protein-restricted'), fontsize=15)\n",
    "     \n",
    "\n",
    "\n",
    "#plt.title('Preference Test', fontsize=15)\n",
    "plt.tight_layout()\n",
    "plt.savefig('IPP2-3_cas pref_5tests.png', dpi=800)\n",
    "plt.show()"
   ]
  },
  {
   "cell_type": "markdown",
   "metadata": {},
   "source": [
    "# Palatability - Licks / cluster in NR over preference tests"
   ]
  },
  {
   "cell_type": "code",
   "execution_count": 7,
   "metadata": {
    "scrolled": true
   },
   "outputs": [
    {
     "data": {
      "image/png": "[encoded data removed]",
      "text/plain": [
       "<Figure size 360x360 with 1 Axes>"
      ]
     },
     "metadata": {
      "needs_background": "light"
     },
     "output_type": "display_data"
    }
   ],
   "source": [
    "av_test1_cas = [14.81]\n",
    "av_test2_cas = [25.37]\n",
    "av_test3_cas = [30.78]\n",
    "av_test4_cas = [28.01]\n",
    "av_test5_cas = [30.86]\n",
    "\n",
    "err_test1_cas = [1.81]\n",
    "err_test2_cas = [4.05]\n",
    "err_test3_cas = [7.29]\n",
    "err_test4_cas = [5.82]\n",
    "err_test5_cas = [5.39]\n",
    "\n",
    "av_test1_mal = [18.32]\n",
    "av_test2_mal = [12.54]\n",
    "av_test3_mal = [23.2]\n",
    "av_test4_mal = [22.31]\n",
    "av_test5_mal = [25.99]\n",
    "\n",
    "err_test1_mal = [3.12]\n",
    "err_test2_mal = [2.21]\n",
    "err_test3_mal = [4.79]\n",
    "err_test4_mal = [4.07]\n",
    "err_test5_mal = [6.93]\n",
    "\n",
    "width = 0.5    \n",
    "xvals = [0.5, 1.05, 1.6, 2.15, 2.7, 3.7, 4.25, 4.8, 5.35, 5.9]\n",
    "\n",
    "fig, ax = plt.subplots()\n",
    "fig.set_size_inches((5, 5))\n",
    "\n",
    "ax.spines['top'].set_visible(False)\n",
    "ax.spines['right'].set_visible(False)\n",
    "ax.spines['left'].set_visible(True)\n",
    "ax.spines['bottom'].set_visible(True)\n",
    "\n",
    "ax.set_ylabel('Average licks per cluster', fontsize=15)\n",
    "\n",
    "#ax.set_xticklabels(('  Cas. Malt.', '   Cas. Malt.'), fontsize=10)\n",
    "\n",
    "\n",
    "bar1 = ax.bar(xvals[0], av_test1_cas,  width, color='xkcd:silver',  \n",
    "            align='center', label='Casein', edgecolor='black', alpha=1, zorder=-1, yerr=err_test1_cas)\n",
    "bar2 = ax.bar(xvals[1], av_test2_cas,  width, color='xkcd:silver',\n",
    "           align='center', label='Casein', edgecolor='black', alpha=1, zorder=-1, yerr=err_test2_cas)\n",
    "bar3 = ax.bar(xvals[2], av_test3_cas,  width, color='xkcd:silver',\n",
    "           align='center', label='Casein', edgecolor='black', alpha=1, zorder=-1, yerr=err_test3_cas)\n",
    "bar4 = ax.bar(xvals[3], av_test4_cas, width, color='xkcd:silver',\n",
    "           align='center', label='Casein', edgecolor='black', alpha=1, zorder=-1, yerr=err_test4_cas)\n",
    "bar5 = ax.bar(xvals[4], av_test5_cas, width, color='xkcd:silver',\n",
    "           align='center', label='Casein', edgecolor='black', alpha=1, zorder=-1, yerr=err_test5_cas)\n",
    "\n",
    "bar6 = ax.bar(xvals[5], av_test1_mal,  width, color='white',\n",
    "           align='center', label='Maltodextrin', edgecolor='black', alpha=1, zorder=-1, yerr=err_test1_mal)\n",
    "bar7 = ax.bar(xvals[6], av_test2_mal,  width, color='white',\n",
    "           align='center', label='Maltodextrin', edgecolor='black', alpha=1, zorder=-1, yerr=err_test2_mal)\n",
    "bar8 = ax.bar(xvals[7], av_test3_mal,  width, color='white',\n",
    "           align='center', label='Maltodextrin', edgecolor='black', alpha=1, zorder=-1, yerr=err_test3_mal)\n",
    "bar9 = ax.bar(xvals[8], av_test4_mal,  width, color='white',\n",
    "           align='center', label='Maltodextrin', edgecolor='black', alpha=1, zorder=-1, yerr=err_test4_mal)\n",
    "bar10 = ax.bar(xvals[9], av_test5_mal,  width, color='white',\n",
    "           align='center', label='Maltodextrin', edgecolor='black', alpha=1, zorder=-1, yerr=err_test5_mal)\n",
    "\n",
    "ax.set_ylim([0, 43])\n",
    "ax.set_yticks([0, 10, 20, 30, 40])\n",
    "#ax.set_yticklabels(('0', '10', '20', '30'), fontsize=15)\n",
    "ax.set_xticklabels([])\n",
    "\n",
    "plt.tick_params(labelsize=15)\n",
    "plt.tick_params(\n",
    "    axis='x',          # changes apply to the x-axis\n",
    "    which='both',      # both major and minor ticks are affected\n",
    "    bottom=False,      # ticks along the bottom edge are off\n",
    "    top=False) \n",
    "ax.set_xticks([1.5, 3])\n",
    "ax.set_xticklabels(('  Casein', '                                  Maltodextrin'), fontsize=15)\n",
    "     \n",
    "\n",
    "\n",
    "plt.title('Non-restricted', fontsize=15)\n",
    "plt.tight_layout()\n",
    "plt.savefig('IPP2-3_licks per cluster_NR_5tests.pdf', dpi=800)\n",
    "plt.show()"
   ]
  },
  {
   "cell_type": "markdown",
   "metadata": {},
   "source": [
    "# Palatability - Licks / cluster in PR over preference tests"
   ]
  },
  {
   "cell_type": "code",
   "execution_count": 6,
   "metadata": {
    "scrolled": true
   },
   "outputs": [
    {
     "data": {
      "image/png": "[encoded data removed]",
      "text/plain": [
       "<Figure size 360x360 with 1 Axes>"
      ]
     },
     "metadata": {
      "needs_background": "light"
     },
     "output_type": "display_data"
    }
   ],
   "source": [
    "av_test1_cas = [23.53]\n",
    "av_test2_cas = [36.84]\n",
    "av_test3_cas = [40.25]\n",
    "av_test4_cas = [36.56]\n",
    "av_test5_cas = [42.80]\n",
    "\n",
    "err_test1_cas = [5.42]\n",
    "err_test2_cas = [6.49]\n",
    "err_test3_cas = [12.66]\n",
    "err_test4_cas = [8.13]\n",
    "err_test5_cas = [9.78]\n",
    "\n",
    "av_test1_mal = [14.26]\n",
    "av_test2_mal = [10.03]\n",
    "av_test3_mal = [20.33]\n",
    "av_test4_mal = [26.38]\n",
    "av_test5_mal = [14.13]\n",
    "\n",
    "err_test1_mal = [2.35]\n",
    "err_test2_mal = [1.48]\n",
    "err_test3_mal = [8.41]\n",
    "err_test4_mal = [7.22]\n",
    "err_test5_mal = [4.76]\n",
    "\n",
    "width = 0.5    \n",
    "xvals = [0.5, 1.05, 1.6, 2.15, 2.7, 3.7, 4.25, 4.8, 5.35, 5.9]\n",
    "\n",
    "fig, ax = plt.subplots()\n",
    "fig.set_size_inches((5, 5))\n",
    "\n",
    "ax.spines['top'].set_visible(False)\n",
    "ax.spines['right'].set_visible(False)\n",
    "ax.spines['left'].set_visible(True)\n",
    "ax.spines['bottom'].set_visible(True)\n",
    "\n",
    "ax.set_ylabel('Average licks per cluster', fontsize=15)\n",
    "\n",
    "\n",
    "\n",
    "\n",
    "bar1 = ax.bar(xvals[0], av_test1_cas,  width, color='xkcd:kelly green',  \n",
    "            align='center', label='Casein', edgecolor='black', alpha=1, zorder=-1, yerr=err_test1_cas)\n",
    "bar2 = ax.bar(xvals[1], av_test2_cas,  width, color='xkcd:kelly green',\n",
    "           align='center', label='Casein', edgecolor='black', alpha=1, zorder=-1, yerr=err_test2_cas)\n",
    "bar3 = ax.bar(xvals[2], av_test3_cas,  width, color='xkcd:kelly green',\n",
    "           align='center', label='Casein', edgecolor='black', alpha=1, zorder=-1, yerr=err_test3_cas)\n",
    "bar4 = ax.bar(xvals[3], av_test4_cas, width, color='xkcd:kelly green',\n",
    "           align='center', label='Casein', edgecolor='black', alpha=1, zorder=-1, yerr=err_test4_cas)\n",
    "bar5 = ax.bar(xvals[4], av_test5_cas, width, color='xkcd:kelly green',\n",
    "           align='center', label='Casein', edgecolor='black', alpha=1, zorder=-1, yerr=err_test5_cas)\n",
    "\n",
    "bar6 = ax.bar(xvals[5], av_test1_mal,  width, color='xkcd:light green',\n",
    "           align='center', label='Maltodextrin', edgecolor='black', alpha=1, zorder=-1, yerr=err_test1_mal)\n",
    "bar7 = ax.bar(xvals[6], av_test2_mal,  width, color='xkcd:light green',\n",
    "           align='center', label='Maltodextrin', edgecolor='black', alpha=1, zorder=-1, yerr=err_test2_mal)\n",
    "bar8 = ax.bar(xvals[7], av_test3_mal,  width, color='xkcd:light green',\n",
    "           align='center', label='Maltodextrin', edgecolor='black', alpha=1, zorder=-1, yerr=err_test3_mal)\n",
    "bar9 = ax.bar(xvals[8], av_test4_mal,  width, color='xkcd:light green',\n",
    "           align='center', label='Maltodextrin', edgecolor='black', alpha=1, zorder=-1, yerr=err_test4_mal)\n",
    "bar10 = ax.bar(xvals[9], av_test5_mal,  width, color='xkcd:light green',\n",
    "           align='center', label='Maltodextrin', edgecolor='black', alpha=1, zorder=-1, yerr=err_test5_mal)\n",
    "\n",
    "ax.set_ylim([0, 55])\n",
    "ax.set_yticks([0, 10, 20, 30, 40, 50])\n",
    "#ax.set_yticklabels(('0', '10', '20', '30'), fontsize=15)\n",
    "ax.set_xticklabels([])\n",
    "\n",
    "plt.tick_params(labelsize=15)\n",
    "plt.tick_params(\n",
    "    axis='x',          # changes apply to the x-axis\n",
    "    which='both',      # both major and minor ticks are affected\n",
    "    bottom=False,      # ticks along the bottom edge are off\n",
    "    top=False) \n",
    "ax.set_xticks([1.5, 3])\n",
    "ax.set_xticklabels(('  Casein', '                                  Maltodextrin'), fontsize=15)\n",
    "     \n",
    "\n",
    "\n",
    "plt.title('Protein-restricted', fontsize=15)\n",
    "plt.tight_layout()\n",
    "plt.savefig('IPP2-3_licks per cluster_PR_5tests.pdf', dpi=800)\n",
    "plt.show()"
   ]
  },
  {
   "cell_type": "markdown",
   "metadata": {},
   "source": [
    "# licks per cluster test 1"
   ]
  },
  {
   "cell_type": "code",
   "execution_count": 41,
   "metadata": {
    "scrolled": true
   },
   "outputs": [
    {
     "name": "stderr",
     "output_type": "stream",
     "text": [
      "C:\\Users\\gc214.UOL\\AppData\\Local\\Continuum\\anaconda3\\ANACONDA\\lib\\site-packages\\ipykernel_launcher.py:47: MatplotlibDeprecationWarning: Saw kwargs ['c', 'color'] which are all aliases for 'color'.  Kept value from 'color'.  Passing multiple aliases for the same property will raise a TypeError in 3.3.\n",
      "C:\\Users\\gc214.UOL\\AppData\\Local\\Continuum\\anaconda3\\ANACONDA\\lib\\site-packages\\ipykernel_launcher.py:50: MatplotlibDeprecationWarning: Saw kwargs ['c', 'color'] which are all aliases for 'color'.  Kept value from 'color'.  Passing multiple aliases for the same property will raise a TypeError in 3.3.\n"
     ]
    },
    {
     "data": {
      "image/png": "[encoded data removed]",
      "text/plain": [
       "<Figure size 252x360 with 1 Axes>"
      ]
     },
     "metadata": {
      "needs_background": "light"
     },
     "output_type": "display_data"
    }
   ],
   "source": [
    "NR_cas = [19.11, 14.46, 14.75, 8.55, 11.8, 8.08, 16.41, 13.64, 18.27, 24.31, 10.64, 8.6, 31.25, 7.4]\n",
    "NR_mal = [17.55, 20.86, 14.91, 20.63, 11.84, 12.17, 28.81, 44, 9.53, 8.27, 39.73, 5.21, 11.87, 11.1]\n",
    "PR_cas = [7.12, 18.33, 78.61, 45.52, 37.27, 29.26, 16.15, 3.87, 23.07, 31.13, 9.22, 13.7, 3.77, 12.41]\n",
    "PR_mal = [5.47, 28.08, 18.57, 14.29, 21.4, 18.94, 21.96, 3.8, 10.07, 6.11, 5.21, 10.21, 6.2, 29.33]\n",
    "\n",
    "NR_cas_av = (14.81)\n",
    "NR_mal_av = (18.32)\n",
    "PR_cas_av = (23.53)\n",
    "PR_mal_av = (14.26)\n",
    "\n",
    "sc0 = (0, 0, 0, 0)\n",
    "sc36 = (0.36, 0.36, 0.36, 0.36)\n",
    "sc1 = (0.78, 0.78, 0.78, 0.78)\n",
    "sc136 = (1.13, 1.13, 1.13, 1.13)\n",
    "\n",
    "\n",
    "\n",
    "width = 0.5    \n",
    "xvals = [0.5, 1.05, 1.70, 2.25]\n",
    "\n",
    "fig, ax = plt.subplots(figsize=(3, 4))\n",
    "\n",
    "fig.set_size_inches((3.5, 5))\n",
    "ax.spines['top'].set_visible(False)\n",
    "ax.spines['right'].set_visible(False)\n",
    "ax.spines['left'].set_visible(True)\n",
    "ax.spines['bottom'].set_visible(True)\n",
    "\n",
    "ax.set_ylabel('Average licks per cluster', fontsize=15)\n",
    "ax.set_xticks([0.7, 1.8])\n",
    "ax.set_xticklabels(('    Cas.  Malt.', '        Cas.  Malt.'), fontsize=10)\n",
    "ax.set_ylim(0, 80)\n",
    "\n",
    "bar1 = ax.bar(xvals[0], NR_cas_av, width, color='xkcd:silver',  \n",
    "            align='center', label='casein', edgecolor='black', alpha=1, zorder=-1)\n",
    "bar2 = ax.bar(xvals[1], NR_mal_av, width, color='white',\n",
    "           align='center', label='malto', edgecolor='black', alpha=1, zorder=-1)\n",
    "bar3 = ax.bar(xvals[2], PR_cas_av, width, color='xkcd:kelly green',\n",
    "           align='center', label='casein', edgecolor='black', alpha=1, zorder=-1)\n",
    "bar4 = ax.bar(xvals[3], PR_mal_av, width, color='lightgreen',\n",
    "           align='center', label='malto', edgecolor='black', alpha=1, zorder=-1)\n",
    "\n",
    "plt.yticks([0, 20, 40, 60, 80], [\"0\", \"20\", \"40\", \"60\", \"80\"], fontsize=15)\n",
    "plt.tick_params(labelsize=15)\n",
    "\n",
    "for y1,y2 in zip(NR_cas, NR_mal):\n",
    "    ax.plot([xvals[0], xvals[1]],[y1,y2], c='xkcd:charcoal', marker='o',markerfacecolor='w', color= 'lightgrey', markeredgecolor='xkcd:charcoal', markersize=6, zorder=20, alpha=1, clip_on=False)\n",
    "    \n",
    "for y1,y2 in zip(PR_cas, PR_mal):\n",
    "    ax.plot([xvals[2], xvals[3]],[y1,y2],c='xkcd:charcoal', marker='o',markerfacecolor='w', color= 'lightgrey', markeredgecolor='xkcd:charcoal', markersize=6, zorder=20, alpha=1, clip_on=False)\n",
    "\n",
    "    plt.tick_params(labelsize=15)\n",
    "plt.tick_params(\n",
    "    axis='x',          # changes apply to the x-axis\n",
    "    which='both',      # both major and minor ticks are affected\n",
    "    bottom=False,      # ticks along the bottom edge are off\n",
    "    top=False) \n",
    "\n",
    "ax.set_ylim([0, 85])\n",
    "\n",
    "plt.title('Test 1', fontsize=15)\n",
    "plt.tight_layout()\n",
    "plt.savefig('IPP2-3_licks_x_clusters_test1.pdf', dpi=800)\n",
    "plt.show()"
   ]
  },
  {
   "cell_type": "code",
   "execution_count": null,
   "metadata": {},
   "outputs": [],
   "source": [
    "def dividelicks(licks, time):\n",
    "    before = [x for x in licks if x < time]\n",
    "    after = [x for x in licks if x > time]\n",
    "    \n",
    "    return before, after\n",
    "\n",
    "\n",
    "\n",
    "for i in rats:\n",
    "    for j in ['s10']:\n",
    "        \n",
    "        x = rats[i].sessions[j]\n",
    "\n",
    "        x.left['licks-forced'], x.left['licks-free'] = dividelicks(x.left['licks'], x.both['sipper'][0])\n",
    "        x.right['licks-forced'], x.right['licks-free'] = dividelicks(x.right['licks'], x.both['sipper'][0])\n",
    "\n",
    "df = pd.DataFrame([x for x in rats])"
   ]
  }
 ],
 "metadata": {
  "kernelspec": {
   "display_name": "Python 3",
   "language": "python",
   "name": "python3"
  },
  "language_info": {
   "codemirror_mode": {
    "name": "ipython",
    "version": 3
   },
   "file_extension": ".py",
   "mimetype": "text/x-python",
   "name": "python",
   "nbconvert_exporter": "python",
   "pygments_lexer": "ipython3",
   "version": "3.7.3"
  }
 },
 "nbformat": 4,
 "nbformat_minor": 2
}
